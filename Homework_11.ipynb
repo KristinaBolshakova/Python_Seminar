{
  "nbformat": 4,
  "nbformat_minor": 0,
  "metadata": {
    "colab": {
      "provenance": [],
      "authorship_tag": "ABX9TyPm69prqHS7IVNrCQ698suL",
      "include_colab_link": true
    },
    "kernelspec": {
      "name": "python3",
      "display_name": "Python 3"
    },
    "language_info": {
      "name": "python"
    }
  },
  "cells": [
    {
      "cell_type": "markdown",
      "metadata": {
        "id": "view-in-github",
        "colab_type": "text"
      },
      "source": [
        "<a href=\"https://colab.research.google.com/github/KristinaBolshakova/Python_seminar/blob/Homework_11/Homework_11.ipynb\" target=\"_parent\"><img src=\"https://colab.research.google.com/assets/colab-badge.svg\" alt=\"Open In Colab\"/></a>"
      ]
    },
    {
      "cell_type": "markdown",
      "source": [
        "Даны две функции: \n",
        "f(x) = x^3 - 50x и g(x) = -x^4 + 88x^2 - 241\n",
        "\n",
        "Требуется:\n",
        "\n",
        "Найти координаты точек пересечения\n",
        "\n",
        "\n",
        "Построить графики функций в одной системе координат\n",
        "\n",
        "\n",
        "Построить график функции пересечения\n"
      ],
      "metadata": {
        "id": "3w3OMuyUzVg6"
      }
    },
    {
      "cell_type": "code",
      "source": [
        "from sympy import *\n",
        "from sympy.plotting import plot"
      ],
      "metadata": {
        "id": "wjlVHEQzF5EX"
      },
      "execution_count": null,
      "outputs": []
    },
    {
      "cell_type": "code",
      "source": [
        "x = Symbol('x', real = True)\n",
        "f = Function('f')\n",
        "g = Function('g')\n",
        "f = collect((x**3 - 50*x), x)\n",
        "g = collect((-x**4 + 88*x**2 - 241), x)\n",
        "roots = solve(Eq(f, g), x)\n",
        "roots"
      ],
      "metadata": {
        "id": "CqEm8_FsJLCe"
      },
      "execution_count": null,
      "outputs": []
    },
    {
      "cell_type": "code",
      "source": [
        "count_x = len(roots)\n",
        "count_x"
      ],
      "metadata": {
        "id": "1qOO6mLogfvX"
      },
      "execution_count": null,
      "outputs": []
    },
    {
      "cell_type": "code",
      "source": [
        "x1 = roots[0]\n",
        "x2 = roots[1]\n",
        "x3 = roots[2]\n",
        "x4 = roots[3]\n",
        "\n",
        "y1 = x1**3 - 50*x1\n",
        "y2 = x2**3 - 50*x2\n",
        "y3 = x3**3 - 50*x3\n",
        "y4 = x4**3 - 50*x4\n",
        "\n",
        "print(f'''координаты точки A = \n",
        "  x = {x1}, \n",
        "  y = {y1}''')\n",
        "print(f'''координаты точки B = \n",
        "  x = {x2}, \n",
        "  y = {y2}''')\n",
        "print(f'''координаты точки C = \n",
        "  x = {x3}, \n",
        "  y = {y3}''')\n",
        "print(f'''координаты точки D = \n",
        "  x = {x4}, \n",
        "  y = {y4}''')\n"
      ],
      "metadata": {
        "id": "XvnSGNulIEJ1"
      },
      "execution_count": null,
      "outputs": []
    },
    {
      "cell_type": "code",
      "source": [
        "fx = x**3 - 50*x\n",
        "gx = -x**4 + 88*x**2 - 241\n",
        "plot(fx, gx)"
      ],
      "metadata": {
        "id": "kgBvn58xIJoQ"
      },
      "execution_count": null,
      "outputs": []
    },
    {
      "cell_type": "code",
      "source": [
        "hx = fx - gx\n",
        "plot(hx)"
      ],
      "metadata": {
        "id": "Kx7QF7mf4J16"
      },
      "execution_count": null,
      "outputs": []
    }
  ]
}